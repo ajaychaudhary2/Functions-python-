{
 "cells": [
  {
   "cell_type": "markdown",
   "metadata": {},
   "source": [
    "# 1. Why are functions advantageous to have in your programs?"
   ]
  },
  {
   "cell_type": "markdown",
   "metadata": {},
   "source": [
    "# Solution 1"
   ]
  },
  {
   "cell_type": "markdown",
   "metadata": {},
   "source": [
    "### => Functions are the namings block of a code that perform a specific task they are define using def"
   ]
  },
  {
   "cell_type": "markdown",
   "metadata": {},
   "source": [
    "### > The advantages of functions in programss are :"
   ]
  },
  {
   "cell_type": "markdown",
   "metadata": {},
   "source": [
    "### 1. Modularity - means  by using functions we can break the programe in a small small blocks that recude the    programme complaxicity"
   ]
  },
  {
   "cell_type": "markdown",
   "metadata": {},
   "source": [
    "### 2. Abstraction - we can also hide use abstreaton that allows us to hide the impimentation details  of a particular task behind a function interface"
   ]
  },
  {
   "cell_type": "markdown",
   "metadata": {},
   "source": [
    "### 3. Encapsulation - this provide us to isolate and organise different part of our programe"
   ]
  },
  {
   "cell_type": "markdown",
   "metadata": {},
   "source": [
    "### 4. Readablity - By function the readablity of a code increase and the code is  easy to under stand"
   ]
  },
  {
   "cell_type": "markdown",
   "metadata": {},
   "source": [
    "### In python the function is define by the word def"
   ]
  },
  {
   "cell_type": "markdown",
   "metadata": {},
   "source": [
    "## -------------------------------------------------------------------------------------------"
   ]
  },
  {
   "cell_type": "markdown",
   "metadata": {},
   "source": [
    "# 2. When does the code in a function run: when it&#39;s specified or when it&#39;s called?"
   ]
  },
  {
   "cell_type": "markdown",
   "metadata": {},
   "source": [
    "# Solution 2"
   ]
  },
  {
   "cell_type": "markdown",
   "metadata": {},
   "source": [
    "### When we create a function usinf def keywrod that means   we are create a named block and define the code behivous and the task of a code   that what happen when we execute this  but    it can't be run   until unless we cannot  call the function  "
   ]
  },
  {
   "cell_type": "code",
   "execution_count": 1,
   "metadata": {},
   "outputs": [
    {
     "name": "stdout",
     "output_type": "stream",
     "text": [
      "Hello World\n"
     ]
    }
   ],
   "source": [
    "def greet():\n",
    "    print(\"Hello World\")\n",
    "    \n",
    "# here the function was ccreated but if we want to run this  we    basiclly  call this function see below\n",
    "\n",
    "greet()"
   ]
  },
  {
   "cell_type": "markdown",
   "metadata": {},
   "source": [
    "## -------------------------------------------------------------------------------------------"
   ]
  },
  {
   "cell_type": "markdown",
   "metadata": {},
   "source": [
    "# 3. What statement creates a function?"
   ]
  },
  {
   "cell_type": "markdown",
   "metadata": {},
   "source": [
    "# Solution 3"
   ]
  },
  {
   "cell_type": "markdown",
   "metadata": {},
   "source": [
    "### In python def statement is used to create a function lets  see a  example"
   ]
  },
  {
   "cell_type": "code",
   "execution_count": null,
   "metadata": {},
   "outputs": [],
   "source": [
    "def function_name(parameters):\n",
    "    \n",
    "    ## function body\n",
    "    ## some task to perform\n",
    "    \n",
    "    return # some value\n",
    "\n",
    "function_name()"
   ]
  },
  {
   "cell_type": "markdown",
   "metadata": {},
   "source": [
    "### 1. In the upper code  function name is the  name of a fucntion that given by the user or programmer\n",
    "### 2. Parameters are some values that we need in the function and we want to  get these values by the user\n",
    "### 3. Return some value  that was the output \n",
    "### 4. At the end we  call he function to execute"
   ]
  },
  {
   "cell_type": "markdown",
   "metadata": {},
   "source": [
    "## -------------------------------------------------------------------------------------------|"
   ]
  },
  {
   "cell_type": "markdown",
   "metadata": {},
   "source": [
    "# 4. What is the difference between a function and a function call?"
   ]
  },
  {
   "cell_type": "markdown",
   "metadata": {},
   "source": [
    "# Solution 4\n"
   ]
  },
  {
   "cell_type": "markdown",
   "metadata": {},
   "source": [
    "### - A function is a block of code to perfor, a specific task\n",
    "\n",
    "### - The function is   written by using  def statement\n",
    "\n",
    "### - A function has a body that contains some code that perform some task \n",
    "\n"
   ]
  },
  {
   "cell_type": "code",
   "execution_count": 2,
   "metadata": {},
   "outputs": [],
   "source": [
    "def add(a,b):\n",
    "    return a+b ## body of the function add"
   ]
  },
  {
   "cell_type": "markdown",
   "metadata": {},
   "source": [
    "### - function call is an action that invokes (or \"calls\") a function, causing the code inside the function to be executed.\n",
    "\n",
    "### - Whent the function was call the whole code inside that function  executed  and perform the sepcific task  \n",
    "\n",
    "### - Now  call the funcion that we have create in the    example of functions "
   ]
  },
  {
   "cell_type": "code",
   "execution_count": 4,
   "metadata": {},
   "outputs": [
    {
     "name": "stdout",
     "output_type": "stream",
     "text": [
      "9\n"
     ]
    }
   ],
   "source": [
    "result = add(4,5)  ## 4 and 5 are the a and b that we   define as a perimeter when write the function\n",
    "\n",
    "print(result)"
   ]
  },
  {
   "cell_type": "markdown",
   "metadata": {},
   "source": [
    "## -------------------------------------------------------------------------------------------\n"
   ]
  },
  {
   "cell_type": "markdown",
   "metadata": {},
   "source": [
    "# 5. How many global scopes are there in a Python program? How many local scopes?"
   ]
  },
  {
   "cell_type": "markdown",
   "metadata": {},
   "source": [
    "# Solution 5\n"
   ]
  },
  {
   "cell_type": "markdown",
   "metadata": {},
   "source": [
    "### Typicilly we have only one globle scope in a program that defines ont he top of a programw this global scope includes variable and functions\n",
    "\n",
    "### but the local scopes are vary with the user that how may varia\\ble they want to  ad in the table  lets see a example below"
   ]
  },
  {
   "cell_type": "code",
   "execution_count": 5,
   "metadata": {},
   "outputs": [
    {
     "name": "stdout",
     "output_type": "stream",
     "text": [
      "Inside function1:\n",
      "global_variable: 10\n",
      "local_variable_1: 20\n",
      "Inside function2:\n",
      "global_variable: 10\n",
      "local_variable_1: 20\n",
      "local_variable_2: 30\n",
      "Outside functions:\n",
      "global_variable: 10\n"
     ]
    }
   ],
   "source": [
    "# Global scope\n",
    "global_variable = 10\n",
    "\n",
    "def function1():\n",
    "    # Local scope 1\n",
    "    local_variable_1 = 20\n",
    "    print(\"Inside function1:\")\n",
    "    print(\"global_variable:\", global_variable)\n",
    "    print(\"local_variable_1:\", local_variable_1)\n",
    "\n",
    "    def function2():\n",
    "        # Local scope 2\n",
    "        local_variable_2 = 30\n",
    "        print(\"Inside function2:\")\n",
    "        print(\"global_variable:\", global_variable)\n",
    "        print(\"local_variable_1:\", local_variable_1)\n",
    "        print(\"local_variable_2:\", local_variable_2)\n",
    "\n",
    "    # Call function2\n",
    "    function2()\n",
    "\n",
    "# Call function1\n",
    "function1()\n",
    "\n",
    "# Access global_variable from outside any function\n",
    "print(\"Outside functions:\")\n",
    "print(\"global_variable:\", global_variable)"
   ]
  },
  {
   "cell_type": "markdown",
   "metadata": {},
   "source": [
    "### See the output that in every function  the global scope is same but   see the value of local  scope is chnge because the global scopes is used anywghere in a program we need  but the local  scope we  only usw these  vales inside a function"
   ]
  },
  {
   "cell_type": "markdown",
   "metadata": {},
   "source": [
    "## -------------------------------------------------------------------------------------------"
   ]
  },
  {
   "cell_type": "markdown",
   "metadata": {},
   "source": [
    "# 6. What happens to variables in a local scope when the function call returns?"
   ]
  },
  {
   "cell_type": "markdown",
   "metadata": {},
   "source": [
    "# Solution 6"
   ]
  },
  {
   "cell_type": "markdown",
   "metadata": {},
   "source": [
    "\n",
    "### When a function call returns, the local variables defined within the function's local scope are destroyed, and the memory allocated to them is reclaimed by the Python interpreter. This process is known as variable cleanup or garbage collection. let understand using example"
   ]
  },
  {
   "cell_type": "code",
   "execution_count": 6,
   "metadata": {},
   "outputs": [
    {
     "name": "stdout",
     "output_type": "stream",
     "text": [
      "Inside function: 10\n"
     ]
    },
    {
     "ename": "NameError",
     "evalue": "name 'local_variable' is not defined",
     "output_type": "error",
     "traceback": [
      "\u001b[1;31m---------------------------------------------------------------------------\u001b[0m",
      "\u001b[1;31mNameError\u001b[0m                                 Traceback (most recent call last)",
      "Cell \u001b[1;32mIn[6], line 9\u001b[0m\n\u001b[0;32m      6\u001b[0m function()\n\u001b[0;32m      8\u001b[0m \u001b[38;5;66;03m# Attempt to access the local variable outside the function\u001b[39;00m\n\u001b[1;32m----> 9\u001b[0m \u001b[38;5;28mprint\u001b[39m(\u001b[38;5;124m\"\u001b[39m\u001b[38;5;124mOutside function:\u001b[39m\u001b[38;5;124m\"\u001b[39m, \u001b[43mlocal_variable\u001b[49m)\n",
      "\u001b[1;31mNameError\u001b[0m: name 'local_variable' is not defined"
     ]
    }
   ],
   "source": [
    "def function():\n",
    "    local_variable = 10\n",
    "    print(\"Inside function:\", local_variable)\n",
    "\n",
    "# Call the function\n",
    "function()\n",
    "\n",
    "# Attempt to access the local variable outside the function\n",
    "print(\"Outside function:\", local_variable)"
   ]
  },
  {
   "cell_type": "markdown",
   "metadata": {},
   "source": [
    "### See here when the local variale is call inside a functiont the we get the output but after the calling f funtion we  want to acces the local variable  then name error was occur  becuz   after the function call  the term local variable is not defined"
   ]
  },
  {
   "cell_type": "markdown",
   "metadata": {},
   "source": [
    "## -------------------------------------------------------------------------------------------\n",
    "\n"
   ]
  },
  {
   "cell_type": "markdown",
   "metadata": {},
   "source": [
    "# 7. What is the concept of a return value? Is it possible to have a return value in an expression?"
   ]
  },
  {
   "cell_type": "markdown",
   "metadata": {},
   "source": [
    "# Solution 7"
   ]
  },
  {
   "cell_type": "markdown",
   "metadata": {},
   "source": [
    "### The concept of a return value in programming refers to the value that a function produces or returns after it has been executed. When a function is called, it may perform some computation and then optionally return a value to the caller."
   ]
  },
  {
   "cell_type": "code",
   "execution_count": 7,
   "metadata": {},
   "outputs": [
    {
     "name": "stdout",
     "output_type": "stream",
     "text": [
      "8\n"
     ]
    }
   ],
   "source": [
    "def add(a, b):\n",
    "    return a + b  # this was the return valu by this we cam get the output of  the code\n",
    "result = add(3, 5)\n",
    "print(result)"
   ]
  },
  {
   "cell_type": "markdown",
   "metadata": {},
   "source": [
    "### It is possible. In Python, we can use a function call as part of an expression, and the return value of the function will be used as part of that expression. example:"
   ]
  },
  {
   "cell_type": "code",
   "execution_count": 8,
   "metadata": {},
   "outputs": [],
   "source": [
    "def multiplication(a,b):\n",
    "    \n",
    "    return a*b\n"
   ]
  },
  {
   "cell_type": "code",
   "execution_count": 10,
   "metadata": {},
   "outputs": [
    {
     "name": "stdout",
     "output_type": "stream",
     "text": [
      "64\n"
     ]
    }
   ],
   "source": [
    "result  = multiplication(8 , add(3,5)) ## here we use the  return value of  fucnton add   in this resulrt expression\n",
    "\n",
    "print(result)"
   ]
  },
  {
   "cell_type": "markdown",
   "metadata": {},
   "source": [
    "## -------------------------------------------------------------------------------------------\n",
    "\n"
   ]
  },
  {
   "cell_type": "markdown",
   "metadata": {},
   "source": [
    "# 8. If a function does not have a return statement, what is the return value of a call to that function?"
   ]
  },
  {
   "cell_type": "markdown",
   "metadata": {},
   "source": [
    "# Solution 8"
   ]
  },
  {
   "cell_type": "markdown",
   "metadata": {},
   "source": [
    "### None is a special built-in constant in Python that represents the absence of a value or the lack of a return value. When a function call completes execution without encountering a return statement or with a return statement without a value, Python implicitly returns None. example below\n"
   ]
  },
  {
   "cell_type": "code",
   "execution_count": 11,
   "metadata": {},
   "outputs": [
    {
     "name": "stdout",
     "output_type": "stream",
     "text": [
      "Hello Ajay\n",
      "Result : None\n"
     ]
    }
   ],
   "source": [
    "def greet(name):\n",
    "    \n",
    "    print(\"Hello\" , name)\n",
    "\n",
    "result = greet(\"Ajay\")\n",
    "\n",
    "print(\"Result :\" , result )  "
   ]
  },
  {
   "cell_type": "markdown",
   "metadata": {},
   "source": [
    "## see in the  ouptut  the result is none   because  we   does'nt  return ant value so that they shw none"
   ]
  },
  {
   "cell_type": "markdown",
   "metadata": {},
   "source": [
    "## -------------------------------------------------------------------------------------------\n",
    "\n",
    "\n"
   ]
  },
  {
   "cell_type": "markdown",
   "metadata": {},
   "source": [
    "# 9. How do you make a function variable refer to the global variable?"
   ]
  },
  {
   "cell_type": "markdown",
   "metadata": {},
   "source": [
    "# Solution 9\n"
   ]
  },
  {
   "cell_type": "markdown",
   "metadata": {},
   "source": [
    "### To make a function variable refer to a global variable in Python, you can use the global keyword inside the function to explicitly declare that the variable should refer to a global variable with the same name. This allows you to modify the value of the global variable from within the function."
   ]
  },
  {
   "cell_type": "code",
   "execution_count": 12,
   "metadata": {},
   "outputs": [
    {
     "name": "stdout",
     "output_type": "stream",
     "text": [
      "Inside function: 20\n",
      "Outside function: 20\n"
     ]
    }
   ],
   "source": [
    "global_variable = 10\n",
    "\n",
    "def function():\n",
    "    global global_variable\n",
    "    global_variable = 20\n",
    "    print(\"Inside function:\", global_variable)\n",
    "\n",
    "# Call the function\n",
    "function()\n",
    "\n",
    "# Print the global variable after the function call\n",
    "print(\"Outside function:\", global_variable)"
   ]
  },
  {
   "cell_type": "markdown",
   "metadata": {},
   "source": [
    "### We have a global variable named global_variable with an initial value of 10.\n",
    "### Inside the function, we use the global keyword to declare that the variable global_variable refers to the global variable with the same name.\n",
    "### We then modify the value of global_variable inside the function to 20."
   ]
  },
  {
   "cell_type": "markdown",
   "metadata": {},
   "source": [
    "## -------------------------------------------------------------------------------------------\n",
    "\n"
   ]
  },
  {
   "cell_type": "markdown",
   "metadata": {},
   "source": [
    "# 10. What is the data type of None?"
   ]
  },
  {
   "cell_type": "markdown",
   "metadata": {},
   "source": [
    "# Solution 10"
   ]
  },
  {
   "cell_type": "markdown",
   "metadata": {},
   "source": [
    "### While None itself is often referred to as a \"null\" value, it is not the same as null in some other programming languages. None is actually an instance of the NoneType class, which is a built-in type in Python. see  below"
   ]
  },
  {
   "cell_type": "code",
   "execution_count": 13,
   "metadata": {},
   "outputs": [
    {
     "name": "stdout",
     "output_type": "stream",
     "text": [
      "<class 'NoneType'>\n"
     ]
    }
   ],
   "source": [
    "print(type(None))  # Output: <class 'NoneType'>"
   ]
  },
  {
   "cell_type": "markdown",
   "metadata": {},
   "source": [
    "## See the   type of null is  None type"
   ]
  },
  {
   "cell_type": "markdown",
   "metadata": {},
   "source": [
    "## -------------------------------------------------------------------------------------------\n"
   ]
  },
  {
   "cell_type": "markdown",
   "metadata": {},
   "source": [
    "# 11. What does the sentence import areallyourpetsnamederic do?"
   ]
  },
  {
   "cell_type": "markdown",
   "metadata": {},
   "source": [
    "# Solution 11"
   ]
  },
  {
   "cell_type": "markdown",
   "metadata": {},
   "source": [
    "### The sentence \"import areallyourpetsnamederic\" is a syntactically valid Python statement, but it doesn't inherently do anything meaningful in Python. It's likely a empty or a whimsical reference. In Python, \"import\" is used to bring in modules or packages so you can use their functions, classes, or variables in your code. \"areallyourpetsnamederic\" isn't a standard Python module, so Python would raise an ImportError if you attempted to import it.\n",
    "\n",
    "\n",
    "\n",
    "\n",
    "\n",
    "\n"
   ]
  },
  {
   "cell_type": "markdown",
   "metadata": {},
   "source": [
    "## -------------------------------------------------------------------------------------------\n"
   ]
  },
  {
   "cell_type": "markdown",
   "metadata": {},
   "source": [
    "# 12. If you had a bacon() feature in a spam module, what would you call it after importing spam?"
   ]
  },
  {
   "cell_type": "markdown",
   "metadata": {},
   "source": [
    "# Solution 12"
   ]
  },
  {
   "cell_type": "markdown",
   "metadata": {},
   "source": [
    "### After  importing the  spam module we just call the  bacon  using dot we had to write first the name of a module then  the dot and then the feature name"
   ]
  },
  {
   "cell_type": "code",
   "execution_count": null,
   "metadata": {},
   "outputs": [],
   "source": [
    "import spam\n",
    "\n",
    "\n",
    "spam.bacon() # like this "
   ]
  },
  {
   "cell_type": "markdown",
   "metadata": {},
   "source": [
    "## -------------------------------------------------------------------------------------------\n"
   ]
  },
  {
   "cell_type": "markdown",
   "metadata": {},
   "source": [
    "# 13. What can you do to save a programme from crashing if it encounters an error?"
   ]
  },
  {
   "cell_type": "markdown",
   "metadata": {},
   "source": [
    "# Solution 13"
   ]
  },
  {
   "cell_type": "markdown",
   "metadata": {},
   "source": [
    "### For preventiong the programme to save from crashing we just use the try and except method in this  we can   hadle the  error  and  save the programme from beign crash   in this   method wee just write our code inside the try block and      the  error hasndling inside the except block to prevent  crashing here is a one example"
   ]
  },
  {
   "cell_type": "code",
   "execution_count": 1,
   "metadata": {},
   "outputs": [
    {
     "name": "stdout",
     "output_type": "stream",
     "text": [
      "Error: Cannot divide by zero.\n"
     ]
    }
   ],
   "source": [
    "try:\n",
    "    # Code that might raise an error\n",
    "    # For example:\n",
    "    result = 10 / 0  # This will raise a ZeroDivisionError\n",
    "except ZeroDivisionError:\n",
    "    # Code to handle the specific error\n",
    "    print(\"Error: Cannot divide by zero.\")\n"
   ]
  },
  {
   "cell_type": "markdown",
   "metadata": {},
   "source": [
    "### we can use except to caught any type of error like this"
   ]
  },
  {
   "cell_type": "code",
   "execution_count": 2,
   "metadata": {},
   "outputs": [
    {
     "name": "stdout",
     "output_type": "stream",
     "text": [
      "An error occurred: division by zero\n"
     ]
    }
   ],
   "source": [
    "try:\n",
    "    # Code that might raise an error\n",
    "    # For example:\n",
    "    result = 10 / 0  # This will raise a ZeroDivisionError\n",
    "except Exception as e:\n",
    "    # Code to handle any type of error\n",
    "    print(\"An error occurred:\", e)"
   ]
  },
  {
   "cell_type": "markdown",
   "metadata": {},
   "source": [
    "## -------------------------------------------------------------------------------------------\n"
   ]
  },
  {
   "cell_type": "markdown",
   "metadata": {},
   "source": [
    "# 14. What is the purpose of the try clause? What is the purpose of the except clause?"
   ]
  },
  {
   "cell_type": "markdown",
   "metadata": {},
   "source": [
    "# Solution 14"
   ]
  },
  {
   "cell_type": "markdown",
   "metadata": {},
   "source": [
    "### The try clause in Python is used to enclose the code that might raise an exception. It allows you to define a block of code where you anticipate potential errors or exceptions. The purpose of the try clause is to monitor this code for any exceptions that might occur during its execution.\n",
    "\n",
    "### The except clause, on the other hand, is used to handle specific exceptions that may occur within the corresponding try block. It allows you to specify how your program should respond when a particular type of exception occurs. The purpose of the except clause is to catch and handle exceptions raised within the try block, preventing them from causing the program to crash."
   ]
  },
  {
   "cell_type": "markdown",
   "metadata": {},
   "source": [
    "## -------------------------------------------------------------------------------------------\n"
   ]
  },
  {
   "cell_type": "markdown",
   "metadata": {},
   "source": []
  }
 ],
 "metadata": {
  "kernelspec": {
   "display_name": "Python 3",
   "language": "python",
   "name": "python3"
  },
  "language_info": {
   "codemirror_mode": {
    "name": "ipython",
    "version": 3
   },
   "file_extension": ".py",
   "mimetype": "text/x-python",
   "name": "python",
   "nbconvert_exporter": "python",
   "pygments_lexer": "ipython3",
   "version": "3.11.4"
  }
 },
 "nbformat": 4,
 "nbformat_minor": 2
}
